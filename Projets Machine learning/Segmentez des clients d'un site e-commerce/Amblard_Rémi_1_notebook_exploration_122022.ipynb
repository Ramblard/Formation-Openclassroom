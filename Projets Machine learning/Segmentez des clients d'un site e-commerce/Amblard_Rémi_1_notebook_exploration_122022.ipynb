{
 "cells": [
  {
   "cell_type": "code",
   "execution_count": 1,
   "metadata": {},
   "outputs": [],
   "source": [
    "import pandas as pd\n",
    "import numpy as np\n",
    "import seaborn as sns\n",
    "import missingno as msno\n",
    "import plotly.express as px"
   ]
  },
  {
   "cell_type": "code",
   "execution_count": 2,
   "metadata": {},
   "outputs": [],
   "source": [
    "pd.set_option('display.max_columns', None)"
   ]
  },
  {
   "cell_type": "code",
   "execution_count": 3,
   "metadata": {},
   "outputs": [],
   "source": [
    "df_customers = pd.read_csv(\"olist_customers_dataset.csv\")\n",
    "df_geolocation = pd.read_csv(\"olist_geolocation_dataset.csv\")\n",
    "df_items = pd.read_csv(\"olist_order_items_dataset.csv\")\n",
    "df_payments = pd.read_csv(\"olist_order_payments_dataset.csv\")\n",
    "df_reviews = pd.read_csv(\"olist_order_reviews_dataset.csv\")\n",
    "df_orders = pd.read_csv(\"olist_orders_dataset.csv\")\n",
    "df_products = pd.read_csv(\"olist_products_dataset.csv\")\n",
    "df_sellers = pd.read_csv(\"olist_sellers_dataset.csv\")\n",
    "df_translation = pd.read_csv(\"product_category_name_translation.csv\")"
   ]
  },
  {
   "cell_type": "code",
   "execution_count": 4,
   "metadata": {},
   "outputs": [
    {
     "data": {
      "text/html": [
       "<div>\n",
       "<style scoped>\n",
       "    .dataframe tbody tr th:only-of-type {\n",
       "        vertical-align: middle;\n",
       "    }\n",
       "\n",
       "    .dataframe tbody tr th {\n",
       "        vertical-align: top;\n",
       "    }\n",
       "\n",
       "    .dataframe thead th {\n",
       "        text-align: right;\n",
       "    }\n",
       "</style>\n",
       "<table border=\"1\" class=\"dataframe\">\n",
       "  <thead>\n",
       "    <tr style=\"text-align: right;\">\n",
       "      <th></th>\n",
       "      <th>customer_id</th>\n",
       "      <th>customer_unique_id</th>\n",
       "      <th>customer_zip_code_prefix</th>\n",
       "      <th>customer_city</th>\n",
       "      <th>customer_state</th>\n",
       "      <th>order_id</th>\n",
       "      <th>order_status</th>\n",
       "      <th>order_purchase_timestamp</th>\n",
       "      <th>order_approved_at</th>\n",
       "      <th>order_delivered_carrier_date</th>\n",
       "      <th>order_delivered_customer_date</th>\n",
       "      <th>order_estimated_delivery_date</th>\n",
       "      <th>order_item_id</th>\n",
       "      <th>product_id</th>\n",
       "      <th>seller_id</th>\n",
       "      <th>shipping_limit_date</th>\n",
       "      <th>price</th>\n",
       "      <th>freight_value</th>\n",
       "      <th>payment_sequential</th>\n",
       "      <th>payment_type</th>\n",
       "      <th>payment_installments</th>\n",
       "      <th>payment_value</th>\n",
       "      <th>review_id</th>\n",
       "      <th>review_score</th>\n",
       "      <th>review_comment_title</th>\n",
       "      <th>review_comment_message</th>\n",
       "      <th>review_creation_date</th>\n",
       "      <th>review_answer_timestamp</th>\n",
       "      <th>product_category_name</th>\n",
       "      <th>product_name_lenght</th>\n",
       "      <th>product_description_lenght</th>\n",
       "      <th>product_photos_qty</th>\n",
       "      <th>product_weight_g</th>\n",
       "      <th>product_length_cm</th>\n",
       "      <th>product_height_cm</th>\n",
       "      <th>product_width_cm</th>\n",
       "      <th>product_category_name_english</th>\n",
       "      <th>seller_zip_code_prefix</th>\n",
       "      <th>seller_city</th>\n",
       "      <th>seller_state</th>\n",
       "    </tr>\n",
       "  </thead>\n",
       "  <tbody>\n",
       "    <tr>\n",
       "      <th>0</th>\n",
       "      <td>06b8999e2fba1a1fbc88172c00ba8bc7</td>\n",
       "      <td>861eff4711a542e4b93843c6dd7febb0</td>\n",
       "      <td>14409</td>\n",
       "      <td>franca</td>\n",
       "      <td>SP</td>\n",
       "      <td>00e7ee1b050b8499577073aeb2a297a1</td>\n",
       "      <td>delivered</td>\n",
       "      <td>2017-05-16 15:05:35</td>\n",
       "      <td>2017-05-16 15:22:12</td>\n",
       "      <td>2017-05-23 10:47:57</td>\n",
       "      <td>2017-05-25 10:35:35</td>\n",
       "      <td>2017-06-05 00:00:00</td>\n",
       "      <td>1</td>\n",
       "      <td>a9516a079e37a9c9c36b9b78b10169e8</td>\n",
       "      <td>7c67e1448b00f6e969d365cea6b010ab</td>\n",
       "      <td>2017-05-22 15:22:12</td>\n",
       "      <td>124.99</td>\n",
       "      <td>21.88</td>\n",
       "      <td>1</td>\n",
       "      <td>credit_card</td>\n",
       "      <td>2</td>\n",
       "      <td>146.87</td>\n",
       "      <td>88b8b52d46df026a9d1ad2136a59b30b</td>\n",
       "      <td>4</td>\n",
       "      <td>NaN</td>\n",
       "      <td>NaN</td>\n",
       "      <td>2017-05-26 00:00:00</td>\n",
       "      <td>2017-05-30 22:34:40</td>\n",
       "      <td>moveis_escritorio</td>\n",
       "      <td>41.0</td>\n",
       "      <td>1141.0</td>\n",
       "      <td>1.0</td>\n",
       "      <td>8683.0</td>\n",
       "      <td>54.0</td>\n",
       "      <td>64.0</td>\n",
       "      <td>31.0</td>\n",
       "      <td>office_furniture</td>\n",
       "      <td>8577</td>\n",
       "      <td>itaquaquecetuba</td>\n",
       "      <td>SP</td>\n",
       "    </tr>\n",
       "    <tr>\n",
       "      <th>1</th>\n",
       "      <td>8912fc0c3bbf1e2fbf35819e21706718</td>\n",
       "      <td>9eae34bbd3a474ec5d07949ca7de67c0</td>\n",
       "      <td>68030</td>\n",
       "      <td>santarem</td>\n",
       "      <td>PA</td>\n",
       "      <td>c1d2b34febe9cd269e378117d6681172</td>\n",
       "      <td>delivered</td>\n",
       "      <td>2017-11-09 00:50:13</td>\n",
       "      <td>2017-11-10 00:47:48</td>\n",
       "      <td>2017-11-22 01:43:37</td>\n",
       "      <td>2017-11-28 00:09:50</td>\n",
       "      <td>2017-12-19 00:00:00</td>\n",
       "      <td>1</td>\n",
       "      <td>a9516a079e37a9c9c36b9b78b10169e8</td>\n",
       "      <td>7c67e1448b00f6e969d365cea6b010ab</td>\n",
       "      <td>2017-11-23 00:47:18</td>\n",
       "      <td>112.99</td>\n",
       "      <td>24.90</td>\n",
       "      <td>1</td>\n",
       "      <td>credit_card</td>\n",
       "      <td>1</td>\n",
       "      <td>275.79</td>\n",
       "      <td>7fc63200f12eebb5f387856afdd63db8</td>\n",
       "      <td>1</td>\n",
       "      <td>NaN</td>\n",
       "      <td>GOSTARIA DE UMA SOLUÇÃO, ESTOU PRECISANDO MUIT...</td>\n",
       "      <td>2017-11-29 00:00:00</td>\n",
       "      <td>2017-12-01 19:41:59</td>\n",
       "      <td>moveis_escritorio</td>\n",
       "      <td>41.0</td>\n",
       "      <td>1141.0</td>\n",
       "      <td>1.0</td>\n",
       "      <td>8683.0</td>\n",
       "      <td>54.0</td>\n",
       "      <td>64.0</td>\n",
       "      <td>31.0</td>\n",
       "      <td>office_furniture</td>\n",
       "      <td>8577</td>\n",
       "      <td>itaquaquecetuba</td>\n",
       "      <td>SP</td>\n",
       "    </tr>\n",
       "    <tr>\n",
       "      <th>2</th>\n",
       "      <td>8912fc0c3bbf1e2fbf35819e21706718</td>\n",
       "      <td>9eae34bbd3a474ec5d07949ca7de67c0</td>\n",
       "      <td>68030</td>\n",
       "      <td>santarem</td>\n",
       "      <td>PA</td>\n",
       "      <td>c1d2b34febe9cd269e378117d6681172</td>\n",
       "      <td>delivered</td>\n",
       "      <td>2017-11-09 00:50:13</td>\n",
       "      <td>2017-11-10 00:47:48</td>\n",
       "      <td>2017-11-22 01:43:37</td>\n",
       "      <td>2017-11-28 00:09:50</td>\n",
       "      <td>2017-12-19 00:00:00</td>\n",
       "      <td>2</td>\n",
       "      <td>a9516a079e37a9c9c36b9b78b10169e8</td>\n",
       "      <td>7c67e1448b00f6e969d365cea6b010ab</td>\n",
       "      <td>2017-11-23 00:47:18</td>\n",
       "      <td>112.99</td>\n",
       "      <td>24.90</td>\n",
       "      <td>1</td>\n",
       "      <td>credit_card</td>\n",
       "      <td>1</td>\n",
       "      <td>275.79</td>\n",
       "      <td>7fc63200f12eebb5f387856afdd63db8</td>\n",
       "      <td>1</td>\n",
       "      <td>NaN</td>\n",
       "      <td>GOSTARIA DE UMA SOLUÇÃO, ESTOU PRECISANDO MUIT...</td>\n",
       "      <td>2017-11-29 00:00:00</td>\n",
       "      <td>2017-12-01 19:41:59</td>\n",
       "      <td>moveis_escritorio</td>\n",
       "      <td>41.0</td>\n",
       "      <td>1141.0</td>\n",
       "      <td>1.0</td>\n",
       "      <td>8683.0</td>\n",
       "      <td>54.0</td>\n",
       "      <td>64.0</td>\n",
       "      <td>31.0</td>\n",
       "      <td>office_furniture</td>\n",
       "      <td>8577</td>\n",
       "      <td>itaquaquecetuba</td>\n",
       "      <td>SP</td>\n",
       "    </tr>\n",
       "    <tr>\n",
       "      <th>3</th>\n",
       "      <td>f0ac8e5a239118859b1734e1087cbb1f</td>\n",
       "      <td>3c799d181c34d51f6d44bbbc563024db</td>\n",
       "      <td>92480</td>\n",
       "      <td>nova santa rita</td>\n",
       "      <td>RS</td>\n",
       "      <td>b1a5d5365d330d10485e0203d54ab9e8</td>\n",
       "      <td>delivered</td>\n",
       "      <td>2017-05-07 20:11:26</td>\n",
       "      <td>2017-05-08 22:22:56</td>\n",
       "      <td>2017-05-19 20:16:31</td>\n",
       "      <td>2017-05-26 09:54:04</td>\n",
       "      <td>2017-06-12 00:00:00</td>\n",
       "      <td>1</td>\n",
       "      <td>a9516a079e37a9c9c36b9b78b10169e8</td>\n",
       "      <td>7c67e1448b00f6e969d365cea6b010ab</td>\n",
       "      <td>2017-05-22 22:22:56</td>\n",
       "      <td>124.99</td>\n",
       "      <td>15.62</td>\n",
       "      <td>1</td>\n",
       "      <td>credit_card</td>\n",
       "      <td>7</td>\n",
       "      <td>140.61</td>\n",
       "      <td>251191809e37c1cffc16865947c18a4d</td>\n",
       "      <td>3</td>\n",
       "      <td>NaN</td>\n",
       "      <td>Produto compatível com seu valor, muito bonito...</td>\n",
       "      <td>2017-05-27 00:00:00</td>\n",
       "      <td>2017-05-28 02:43:16</td>\n",
       "      <td>moveis_escritorio</td>\n",
       "      <td>41.0</td>\n",
       "      <td>1141.0</td>\n",
       "      <td>1.0</td>\n",
       "      <td>8683.0</td>\n",
       "      <td>54.0</td>\n",
       "      <td>64.0</td>\n",
       "      <td>31.0</td>\n",
       "      <td>office_furniture</td>\n",
       "      <td>8577</td>\n",
       "      <td>itaquaquecetuba</td>\n",
       "      <td>SP</td>\n",
       "    </tr>\n",
       "    <tr>\n",
       "      <th>4</th>\n",
       "      <td>6bc8d08963a135220ed6c6d098831f84</td>\n",
       "      <td>23397e992b09769faf5e66f9e171a241</td>\n",
       "      <td>25931</td>\n",
       "      <td>mage</td>\n",
       "      <td>RJ</td>\n",
       "      <td>2e604b3614664aa66867856dba7e61b7</td>\n",
       "      <td>delivered</td>\n",
       "      <td>2018-02-03 19:45:40</td>\n",
       "      <td>2018-02-04 22:29:19</td>\n",
       "      <td>2018-02-19 18:21:47</td>\n",
       "      <td>2018-02-28 21:09:00</td>\n",
       "      <td>2018-03-22 00:00:00</td>\n",
       "      <td>1</td>\n",
       "      <td>a9516a079e37a9c9c36b9b78b10169e8</td>\n",
       "      <td>7c67e1448b00f6e969d365cea6b010ab</td>\n",
       "      <td>2018-02-18 21:29:19</td>\n",
       "      <td>106.99</td>\n",
       "      <td>30.59</td>\n",
       "      <td>1</td>\n",
       "      <td>credit_card</td>\n",
       "      <td>10</td>\n",
       "      <td>137.58</td>\n",
       "      <td>f7123bac5b91a0e2e38d8b41fd1206f4</td>\n",
       "      <td>4</td>\n",
       "      <td>NaN</td>\n",
       "      <td>Entregou antes do prazo</td>\n",
       "      <td>2018-03-01 00:00:00</td>\n",
       "      <td>2018-03-02 11:11:24</td>\n",
       "      <td>moveis_escritorio</td>\n",
       "      <td>41.0</td>\n",
       "      <td>1141.0</td>\n",
       "      <td>1.0</td>\n",
       "      <td>8683.0</td>\n",
       "      <td>54.0</td>\n",
       "      <td>64.0</td>\n",
       "      <td>31.0</td>\n",
       "      <td>office_furniture</td>\n",
       "      <td>8577</td>\n",
       "      <td>itaquaquecetuba</td>\n",
       "      <td>SP</td>\n",
       "    </tr>\n",
       "  </tbody>\n",
       "</table>\n",
       "</div>"
      ],
      "text/plain": [
       "                        customer_id                customer_unique_id  \\\n",
       "0  06b8999e2fba1a1fbc88172c00ba8bc7  861eff4711a542e4b93843c6dd7febb0   \n",
       "1  8912fc0c3bbf1e2fbf35819e21706718  9eae34bbd3a474ec5d07949ca7de67c0   \n",
       "2  8912fc0c3bbf1e2fbf35819e21706718  9eae34bbd3a474ec5d07949ca7de67c0   \n",
       "3  f0ac8e5a239118859b1734e1087cbb1f  3c799d181c34d51f6d44bbbc563024db   \n",
       "4  6bc8d08963a135220ed6c6d098831f84  23397e992b09769faf5e66f9e171a241   \n",
       "\n",
       "   customer_zip_code_prefix    customer_city customer_state  \\\n",
       "0                     14409           franca             SP   \n",
       "1                     68030         santarem             PA   \n",
       "2                     68030         santarem             PA   \n",
       "3                     92480  nova santa rita             RS   \n",
       "4                     25931             mage             RJ   \n",
       "\n",
       "                           order_id order_status order_purchase_timestamp  \\\n",
       "0  00e7ee1b050b8499577073aeb2a297a1    delivered      2017-05-16 15:05:35   \n",
       "1  c1d2b34febe9cd269e378117d6681172    delivered      2017-11-09 00:50:13   \n",
       "2  c1d2b34febe9cd269e378117d6681172    delivered      2017-11-09 00:50:13   \n",
       "3  b1a5d5365d330d10485e0203d54ab9e8    delivered      2017-05-07 20:11:26   \n",
       "4  2e604b3614664aa66867856dba7e61b7    delivered      2018-02-03 19:45:40   \n",
       "\n",
       "     order_approved_at order_delivered_carrier_date  \\\n",
       "0  2017-05-16 15:22:12          2017-05-23 10:47:57   \n",
       "1  2017-11-10 00:47:48          2017-11-22 01:43:37   \n",
       "2  2017-11-10 00:47:48          2017-11-22 01:43:37   \n",
       "3  2017-05-08 22:22:56          2017-05-19 20:16:31   \n",
       "4  2018-02-04 22:29:19          2018-02-19 18:21:47   \n",
       "\n",
       "  order_delivered_customer_date order_estimated_delivery_date  order_item_id  \\\n",
       "0           2017-05-25 10:35:35           2017-06-05 00:00:00              1   \n",
       "1           2017-11-28 00:09:50           2017-12-19 00:00:00              1   \n",
       "2           2017-11-28 00:09:50           2017-12-19 00:00:00              2   \n",
       "3           2017-05-26 09:54:04           2017-06-12 00:00:00              1   \n",
       "4           2018-02-28 21:09:00           2018-03-22 00:00:00              1   \n",
       "\n",
       "                         product_id                         seller_id  \\\n",
       "0  a9516a079e37a9c9c36b9b78b10169e8  7c67e1448b00f6e969d365cea6b010ab   \n",
       "1  a9516a079e37a9c9c36b9b78b10169e8  7c67e1448b00f6e969d365cea6b010ab   \n",
       "2  a9516a079e37a9c9c36b9b78b10169e8  7c67e1448b00f6e969d365cea6b010ab   \n",
       "3  a9516a079e37a9c9c36b9b78b10169e8  7c67e1448b00f6e969d365cea6b010ab   \n",
       "4  a9516a079e37a9c9c36b9b78b10169e8  7c67e1448b00f6e969d365cea6b010ab   \n",
       "\n",
       "   shipping_limit_date   price  freight_value  payment_sequential  \\\n",
       "0  2017-05-22 15:22:12  124.99          21.88                   1   \n",
       "1  2017-11-23 00:47:18  112.99          24.90                   1   \n",
       "2  2017-11-23 00:47:18  112.99          24.90                   1   \n",
       "3  2017-05-22 22:22:56  124.99          15.62                   1   \n",
       "4  2018-02-18 21:29:19  106.99          30.59                   1   \n",
       "\n",
       "  payment_type  payment_installments  payment_value  \\\n",
       "0  credit_card                     2         146.87   \n",
       "1  credit_card                     1         275.79   \n",
       "2  credit_card                     1         275.79   \n",
       "3  credit_card                     7         140.61   \n",
       "4  credit_card                    10         137.58   \n",
       "\n",
       "                          review_id  review_score review_comment_title  \\\n",
       "0  88b8b52d46df026a9d1ad2136a59b30b             4                  NaN   \n",
       "1  7fc63200f12eebb5f387856afdd63db8             1                  NaN   \n",
       "2  7fc63200f12eebb5f387856afdd63db8             1                  NaN   \n",
       "3  251191809e37c1cffc16865947c18a4d             3                  NaN   \n",
       "4  f7123bac5b91a0e2e38d8b41fd1206f4             4                  NaN   \n",
       "\n",
       "                              review_comment_message review_creation_date  \\\n",
       "0                                                NaN  2017-05-26 00:00:00   \n",
       "1  GOSTARIA DE UMA SOLUÇÃO, ESTOU PRECISANDO MUIT...  2017-11-29 00:00:00   \n",
       "2  GOSTARIA DE UMA SOLUÇÃO, ESTOU PRECISANDO MUIT...  2017-11-29 00:00:00   \n",
       "3  Produto compatível com seu valor, muito bonito...  2017-05-27 00:00:00   \n",
       "4                            Entregou antes do prazo  2018-03-01 00:00:00   \n",
       "\n",
       "  review_answer_timestamp product_category_name  product_name_lenght  \\\n",
       "0     2017-05-30 22:34:40     moveis_escritorio                 41.0   \n",
       "1     2017-12-01 19:41:59     moveis_escritorio                 41.0   \n",
       "2     2017-12-01 19:41:59     moveis_escritorio                 41.0   \n",
       "3     2017-05-28 02:43:16     moveis_escritorio                 41.0   \n",
       "4     2018-03-02 11:11:24     moveis_escritorio                 41.0   \n",
       "\n",
       "   product_description_lenght  product_photos_qty  product_weight_g  \\\n",
       "0                      1141.0                 1.0            8683.0   \n",
       "1                      1141.0                 1.0            8683.0   \n",
       "2                      1141.0                 1.0            8683.0   \n",
       "3                      1141.0                 1.0            8683.0   \n",
       "4                      1141.0                 1.0            8683.0   \n",
       "\n",
       "   product_length_cm  product_height_cm  product_width_cm  \\\n",
       "0               54.0               64.0              31.0   \n",
       "1               54.0               64.0              31.0   \n",
       "2               54.0               64.0              31.0   \n",
       "3               54.0               64.0              31.0   \n",
       "4               54.0               64.0              31.0   \n",
       "\n",
       "  product_category_name_english  seller_zip_code_prefix      seller_city  \\\n",
       "0              office_furniture                    8577  itaquaquecetuba   \n",
       "1              office_furniture                    8577  itaquaquecetuba   \n",
       "2              office_furniture                    8577  itaquaquecetuba   \n",
       "3              office_furniture                    8577  itaquaquecetuba   \n",
       "4              office_furniture                    8577  itaquaquecetuba   \n",
       "\n",
       "  seller_state  \n",
       "0           SP  \n",
       "1           SP  \n",
       "2           SP  \n",
       "3           SP  \n",
       "4           SP  "
      ]
     },
     "execution_count": 4,
     "metadata": {},
     "output_type": "execute_result"
    }
   ],
   "source": [
    "df = df_customers.merge(df_orders, on = 'customer_id') \\\n",
    "                .merge(df_items, on = 'order_id') \\\n",
    "                .merge(df_payments, on = 'order_id') \\\n",
    "                .merge(df_reviews, on = 'order_id') \\\n",
    "                .merge(df_products, on = 'product_id') \\\n",
    "                .merge(df_translation, on = 'product_category_name') \\\n",
    "                .merge(df_sellers, on = 'seller_id')\n",
    "df.head()"
   ]
  },
  {
   "cell_type": "code",
   "execution_count": 5,
   "metadata": {},
   "outputs": [
    {
     "data": {
      "text/plain": [
       "(115609, 40)"
      ]
     },
     "execution_count": 5,
     "metadata": {},
     "output_type": "execute_result"
    }
   ],
   "source": [
    "df.shape"
   ]
  },
  {
   "cell_type": "code",
   "execution_count": 6,
   "metadata": {},
   "outputs": [
    {
     "name": "stdout",
     "output_type": "stream",
     "text": [
      "<class 'pandas.core.frame.DataFrame'>\n",
      "Int64Index: 115609 entries, 0 to 115608\n",
      "Data columns (total 40 columns):\n",
      " #   Column                         Non-Null Count   Dtype  \n",
      "---  ------                         --------------   -----  \n",
      " 0   customer_id                    115609 non-null  object \n",
      " 1   customer_unique_id             115609 non-null  object \n",
      " 2   customer_zip_code_prefix       115609 non-null  int64  \n",
      " 3   customer_city                  115609 non-null  object \n",
      " 4   customer_state                 115609 non-null  object \n",
      " 5   order_id                       115609 non-null  object \n",
      " 6   order_status                   115609 non-null  object \n",
      " 7   order_purchase_timestamp       115609 non-null  object \n",
      " 8   order_approved_at              115595 non-null  object \n",
      " 9   order_delivered_carrier_date   114414 non-null  object \n",
      " 10  order_delivered_customer_date  113209 non-null  object \n",
      " 11  order_estimated_delivery_date  115609 non-null  object \n",
      " 12  order_item_id                  115609 non-null  int64  \n",
      " 13  product_id                     115609 non-null  object \n",
      " 14  seller_id                      115609 non-null  object \n",
      " 15  shipping_limit_date            115609 non-null  object \n",
      " 16  price                          115609 non-null  float64\n",
      " 17  freight_value                  115609 non-null  float64\n",
      " 18  payment_sequential             115609 non-null  int64  \n",
      " 19  payment_type                   115609 non-null  object \n",
      " 20  payment_installments           115609 non-null  int64  \n",
      " 21  payment_value                  115609 non-null  float64\n",
      " 22  review_id                      115609 non-null  object \n",
      " 23  review_score                   115609 non-null  int64  \n",
      " 24  review_comment_title           13801 non-null   object \n",
      " 25  review_comment_message         48906 non-null   object \n",
      " 26  review_creation_date           115609 non-null  object \n",
      " 27  review_answer_timestamp        115609 non-null  object \n",
      " 28  product_category_name          115609 non-null  object \n",
      " 29  product_name_lenght            115609 non-null  float64\n",
      " 30  product_description_lenght     115609 non-null  float64\n",
      " 31  product_photos_qty             115609 non-null  float64\n",
      " 32  product_weight_g               115608 non-null  float64\n",
      " 33  product_length_cm              115608 non-null  float64\n",
      " 34  product_height_cm              115608 non-null  float64\n",
      " 35  product_width_cm               115608 non-null  float64\n",
      " 36  product_category_name_english  115609 non-null  object \n",
      " 37  seller_zip_code_prefix         115609 non-null  int64  \n",
      " 38  seller_city                    115609 non-null  object \n",
      " 39  seller_state                   115609 non-null  object \n",
      "dtypes: float64(10), int64(6), object(24)\n",
      "memory usage: 36.2+ MB\n"
     ]
    }
   ],
   "source": [
    "df.info()"
   ]
  },
  {
   "cell_type": "code",
   "execution_count": 7,
   "metadata": {},
   "outputs": [
    {
     "data": {
      "text/plain": [
       "<AxesSubplot: >"
      ]
     },
     "execution_count": 7,
     "metadata": {},
     "output_type": "execute_result"
    },
    {
     "data": {
      "image/png": "[encoded data removed]",
      "text/plain": [
       "<Figure size 2500x1000 with 2 Axes>"
      ]
     },
     "metadata": {},
     "output_type": "display_data"
    }
   ],
   "source": [
    "%matplotlib inline\n",
    "msno.matrix(df)"
   ]
  },
  {
   "cell_type": "code",
   "execution_count": 8,
   "metadata": {},
   "outputs": [
    {
     "data": {
      "text/html": [
       "<div>\n",
       "<style scoped>\n",
       "    .dataframe tbody tr th:only-of-type {\n",
       "        vertical-align: middle;\n",
       "    }\n",
       "\n",
       "    .dataframe tbody tr th {\n",
       "        vertical-align: top;\n",
       "    }\n",
       "\n",
       "    .dataframe thead th {\n",
       "        text-align: right;\n",
       "    }\n",
       "</style>\n",
       "<table border=\"1\" class=\"dataframe\">\n",
       "  <thead>\n",
       "    <tr style=\"text-align: right;\">\n",
       "      <th></th>\n",
       "      <th>customer_id</th>\n",
       "      <th>customer_unique_id</th>\n",
       "      <th>customer_zip_code_prefix</th>\n",
       "      <th>customer_city</th>\n",
       "      <th>customer_state</th>\n",
       "      <th>order_id</th>\n",
       "      <th>order_status</th>\n",
       "      <th>order_purchase_timestamp</th>\n",
       "      <th>order_approved_at</th>\n",
       "      <th>order_delivered_carrier_date</th>\n",
       "      <th>order_delivered_customer_date</th>\n",
       "      <th>order_estimated_delivery_date</th>\n",
       "      <th>order_item_id</th>\n",
       "      <th>product_id</th>\n",
       "      <th>seller_id</th>\n",
       "      <th>shipping_limit_date</th>\n",
       "      <th>price</th>\n",
       "      <th>freight_value</th>\n",
       "      <th>payment_sequential</th>\n",
       "      <th>payment_type</th>\n",
       "      <th>payment_installments</th>\n",
       "      <th>payment_value</th>\n",
       "      <th>review_id</th>\n",
       "      <th>review_score</th>\n",
       "      <th>review_comment_title</th>\n",
       "      <th>review_comment_message</th>\n",
       "      <th>review_creation_date</th>\n",
       "      <th>review_answer_timestamp</th>\n",
       "      <th>product_category_name</th>\n",
       "      <th>product_name_lenght</th>\n",
       "      <th>product_description_lenght</th>\n",
       "      <th>product_photos_qty</th>\n",
       "      <th>product_weight_g</th>\n",
       "      <th>product_length_cm</th>\n",
       "      <th>product_height_cm</th>\n",
       "      <th>product_width_cm</th>\n",
       "      <th>product_category_name_english</th>\n",
       "      <th>seller_zip_code_prefix</th>\n",
       "      <th>seller_city</th>\n",
       "      <th>seller_state</th>\n",
       "    </tr>\n",
       "  </thead>\n",
       "  <tbody>\n",
       "    <tr>\n",
       "      <th>count</th>\n",
       "      <td>115609</td>\n",
       "      <td>115609</td>\n",
       "      <td>115609.000000</td>\n",
       "      <td>115609</td>\n",
       "      <td>115609</td>\n",
       "      <td>115609</td>\n",
       "      <td>115609</td>\n",
       "      <td>115609</td>\n",
       "      <td>115595</td>\n",
       "      <td>114414</td>\n",
       "      <td>113209</td>\n",
       "      <td>115609</td>\n",
       "      <td>115609.000000</td>\n",
       "      <td>115609</td>\n",
       "      <td>115609</td>\n",
       "      <td>115609</td>\n",
       "      <td>115609.000000</td>\n",
       "      <td>115609.000000</td>\n",
       "      <td>115609.000000</td>\n",
       "      <td>115609</td>\n",
       "      <td>115609.000000</td>\n",
       "      <td>115609.000000</td>\n",
       "      <td>115609</td>\n",
       "      <td>115609.000000</td>\n",
       "      <td>13801</td>\n",
       "      <td>48906</td>\n",
       "      <td>115609</td>\n",
       "      <td>115609</td>\n",
       "      <td>115609</td>\n",
       "      <td>115609.000000</td>\n",
       "      <td>115609.000000</td>\n",
       "      <td>115609.000000</td>\n",
       "      <td>115608.000000</td>\n",
       "      <td>115608.000000</td>\n",
       "      <td>115608.000000</td>\n",
       "      <td>115608.000000</td>\n",
       "      <td>115609</td>\n",
       "      <td>115609.000000</td>\n",
       "      <td>115609</td>\n",
       "      <td>115609</td>\n",
       "    </tr>\n",
       "    <tr>\n",
       "      <th>unique</th>\n",
       "      <td>96516</td>\n",
       "      <td>93396</td>\n",
       "      <td>NaN</td>\n",
       "      <td>4093</td>\n",
       "      <td>27</td>\n",
       "      <td>96516</td>\n",
       "      <td>7</td>\n",
       "      <td>95989</td>\n",
       "      <td>88332</td>\n",
       "      <td>79241</td>\n",
       "      <td>93702</td>\n",
       "      <td>449</td>\n",
       "      <td>NaN</td>\n",
       "      <td>32171</td>\n",
       "      <td>3028</td>\n",
       "      <td>91386</td>\n",
       "      <td>NaN</td>\n",
       "      <td>NaN</td>\n",
       "      <td>NaN</td>\n",
       "      <td>4</td>\n",
       "      <td>NaN</td>\n",
       "      <td>NaN</td>\n",
       "      <td>96319</td>\n",
       "      <td>NaN</td>\n",
       "      <td>4477</td>\n",
       "      <td>35176</td>\n",
       "      <td>632</td>\n",
       "      <td>96163</td>\n",
       "      <td>71</td>\n",
       "      <td>NaN</td>\n",
       "      <td>NaN</td>\n",
       "      <td>NaN</td>\n",
       "      <td>NaN</td>\n",
       "      <td>NaN</td>\n",
       "      <td>NaN</td>\n",
       "      <td>NaN</td>\n",
       "      <td>71</td>\n",
       "      <td>NaN</td>\n",
       "      <td>604</td>\n",
       "      <td>23</td>\n",
       "    </tr>\n",
       "    <tr>\n",
       "      <th>top</th>\n",
       "      <td>270c23a11d024a44c896d1894b261a83</td>\n",
       "      <td>9a736b248f67d166d2fbb006bcb877c3</td>\n",
       "      <td>NaN</td>\n",
       "      <td>sao paulo</td>\n",
       "      <td>SP</td>\n",
       "      <td>895ab968e7bb0d5659d16cd74cd1650c</td>\n",
       "      <td>delivered</td>\n",
       "      <td>2017-08-08 20:26:31</td>\n",
       "      <td>2017-08-08 20:43:31</td>\n",
       "      <td>2017-08-10 11:58:14</td>\n",
       "      <td>2017-08-14 12:46:18</td>\n",
       "      <td>2017-12-20 00:00:00</td>\n",
       "      <td>NaN</td>\n",
       "      <td>aca2eb7d00ea1a7b8ebd4e68314663af</td>\n",
       "      <td>4a3ca9315b744ce9f8e9374361493884</td>\n",
       "      <td>2017-08-14 20:43:31</td>\n",
       "      <td>NaN</td>\n",
       "      <td>NaN</td>\n",
       "      <td>NaN</td>\n",
       "      <td>credit_card</td>\n",
       "      <td>NaN</td>\n",
       "      <td>NaN</td>\n",
       "      <td>eef5dbca8d37dfce6db7d7b16dd0525e</td>\n",
       "      <td>NaN</td>\n",
       "      <td>Recomendo</td>\n",
       "      <td>Muito bom</td>\n",
       "      <td>2017-12-19 00:00:00</td>\n",
       "      <td>2017-08-17 22:17:55</td>\n",
       "      <td>cama_mesa_banho</td>\n",
       "      <td>NaN</td>\n",
       "      <td>NaN</td>\n",
       "      <td>NaN</td>\n",
       "      <td>NaN</td>\n",
       "      <td>NaN</td>\n",
       "      <td>NaN</td>\n",
       "      <td>NaN</td>\n",
       "      <td>bed_bath_table</td>\n",
       "      <td>NaN</td>\n",
       "      <td>sao paulo</td>\n",
       "      <td>SP</td>\n",
       "    </tr>\n",
       "    <tr>\n",
       "      <th>freq</th>\n",
       "      <td>63</td>\n",
       "      <td>75</td>\n",
       "      <td>NaN</td>\n",
       "      <td>18267</td>\n",
       "      <td>48797</td>\n",
       "      <td>63</td>\n",
       "      <td>113210</td>\n",
       "      <td>63</td>\n",
       "      <td>63</td>\n",
       "      <td>63</td>\n",
       "      <td>63</td>\n",
       "      <td>649</td>\n",
       "      <td>NaN</td>\n",
       "      <td>533</td>\n",
       "      <td>2128</td>\n",
       "      <td>63</td>\n",
       "      <td>NaN</td>\n",
       "      <td>NaN</td>\n",
       "      <td>NaN</td>\n",
       "      <td>85278</td>\n",
       "      <td>NaN</td>\n",
       "      <td>NaN</td>\n",
       "      <td>63</td>\n",
       "      <td>NaN</td>\n",
       "      <td>489</td>\n",
       "      <td>253</td>\n",
       "      <td>531</td>\n",
       "      <td>63</td>\n",
       "      <td>11847</td>\n",
       "      <td>NaN</td>\n",
       "      <td>NaN</td>\n",
       "      <td>NaN</td>\n",
       "      <td>NaN</td>\n",
       "      <td>NaN</td>\n",
       "      <td>NaN</td>\n",
       "      <td>NaN</td>\n",
       "      <td>11847</td>\n",
       "      <td>NaN</td>\n",
       "      <td>28811</td>\n",
       "      <td>82417</td>\n",
       "    </tr>\n",
       "    <tr>\n",
       "      <th>mean</th>\n",
       "      <td>NaN</td>\n",
       "      <td>NaN</td>\n",
       "      <td>35061.537597</td>\n",
       "      <td>NaN</td>\n",
       "      <td>NaN</td>\n",
       "      <td>NaN</td>\n",
       "      <td>NaN</td>\n",
       "      <td>NaN</td>\n",
       "      <td>NaN</td>\n",
       "      <td>NaN</td>\n",
       "      <td>NaN</td>\n",
       "      <td>NaN</td>\n",
       "      <td>1.194535</td>\n",
       "      <td>NaN</td>\n",
       "      <td>NaN</td>\n",
       "      <td>NaN</td>\n",
       "      <td>120.619850</td>\n",
       "      <td>20.056880</td>\n",
       "      <td>1.093747</td>\n",
       "      <td>NaN</td>\n",
       "      <td>2.946233</td>\n",
       "      <td>172.387379</td>\n",
       "      <td>NaN</td>\n",
       "      <td>4.034409</td>\n",
       "      <td>NaN</td>\n",
       "      <td>NaN</td>\n",
       "      <td>NaN</td>\n",
       "      <td>NaN</td>\n",
       "      <td>NaN</td>\n",
       "      <td>48.766541</td>\n",
       "      <td>785.808198</td>\n",
       "      <td>2.205373</td>\n",
       "      <td>2113.907697</td>\n",
       "      <td>30.307903</td>\n",
       "      <td>16.638477</td>\n",
       "      <td>23.113167</td>\n",
       "      <td>NaN</td>\n",
       "      <td>24515.713958</td>\n",
       "      <td>NaN</td>\n",
       "      <td>NaN</td>\n",
       "    </tr>\n",
       "    <tr>\n",
       "      <th>std</th>\n",
       "      <td>NaN</td>\n",
       "      <td>NaN</td>\n",
       "      <td>29841.671732</td>\n",
       "      <td>NaN</td>\n",
       "      <td>NaN</td>\n",
       "      <td>NaN</td>\n",
       "      <td>NaN</td>\n",
       "      <td>NaN</td>\n",
       "      <td>NaN</td>\n",
       "      <td>NaN</td>\n",
       "      <td>NaN</td>\n",
       "      <td>NaN</td>\n",
       "      <td>0.685926</td>\n",
       "      <td>NaN</td>\n",
       "      <td>NaN</td>\n",
       "      <td>NaN</td>\n",
       "      <td>182.653476</td>\n",
       "      <td>15.836184</td>\n",
       "      <td>0.729849</td>\n",
       "      <td>NaN</td>\n",
       "      <td>2.781087</td>\n",
       "      <td>265.873969</td>\n",
       "      <td>NaN</td>\n",
       "      <td>1.385584</td>\n",
       "      <td>NaN</td>\n",
       "      <td>NaN</td>\n",
       "      <td>NaN</td>\n",
       "      <td>NaN</td>\n",
       "      <td>NaN</td>\n",
       "      <td>10.034187</td>\n",
       "      <td>652.418619</td>\n",
       "      <td>1.717771</td>\n",
       "      <td>3781.754895</td>\n",
       "      <td>16.211108</td>\n",
       "      <td>13.473570</td>\n",
       "      <td>11.755083</td>\n",
       "      <td>NaN</td>\n",
       "      <td>27636.640968</td>\n",
       "      <td>NaN</td>\n",
       "      <td>NaN</td>\n",
       "    </tr>\n",
       "    <tr>\n",
       "      <th>min</th>\n",
       "      <td>NaN</td>\n",
       "      <td>NaN</td>\n",
       "      <td>1003.000000</td>\n",
       "      <td>NaN</td>\n",
       "      <td>NaN</td>\n",
       "      <td>NaN</td>\n",
       "      <td>NaN</td>\n",
       "      <td>NaN</td>\n",
       "      <td>NaN</td>\n",
       "      <td>NaN</td>\n",
       "      <td>NaN</td>\n",
       "      <td>NaN</td>\n",
       "      <td>1.000000</td>\n",
       "      <td>NaN</td>\n",
       "      <td>NaN</td>\n",
       "      <td>NaN</td>\n",
       "      <td>0.850000</td>\n",
       "      <td>0.000000</td>\n",
       "      <td>1.000000</td>\n",
       "      <td>NaN</td>\n",
       "      <td>0.000000</td>\n",
       "      <td>0.000000</td>\n",
       "      <td>NaN</td>\n",
       "      <td>1.000000</td>\n",
       "      <td>NaN</td>\n",
       "      <td>NaN</td>\n",
       "      <td>NaN</td>\n",
       "      <td>NaN</td>\n",
       "      <td>NaN</td>\n",
       "      <td>5.000000</td>\n",
       "      <td>4.000000</td>\n",
       "      <td>1.000000</td>\n",
       "      <td>0.000000</td>\n",
       "      <td>7.000000</td>\n",
       "      <td>2.000000</td>\n",
       "      <td>6.000000</td>\n",
       "      <td>NaN</td>\n",
       "      <td>1001.000000</td>\n",
       "      <td>NaN</td>\n",
       "      <td>NaN</td>\n",
       "    </tr>\n",
       "    <tr>\n",
       "      <th>25%</th>\n",
       "      <td>NaN</td>\n",
       "      <td>NaN</td>\n",
       "      <td>11310.000000</td>\n",
       "      <td>NaN</td>\n",
       "      <td>NaN</td>\n",
       "      <td>NaN</td>\n",
       "      <td>NaN</td>\n",
       "      <td>NaN</td>\n",
       "      <td>NaN</td>\n",
       "      <td>NaN</td>\n",
       "      <td>NaN</td>\n",
       "      <td>NaN</td>\n",
       "      <td>1.000000</td>\n",
       "      <td>NaN</td>\n",
       "      <td>NaN</td>\n",
       "      <td>NaN</td>\n",
       "      <td>39.900000</td>\n",
       "      <td>13.080000</td>\n",
       "      <td>1.000000</td>\n",
       "      <td>NaN</td>\n",
       "      <td>1.000000</td>\n",
       "      <td>60.870000</td>\n",
       "      <td>NaN</td>\n",
       "      <td>4.000000</td>\n",
       "      <td>NaN</td>\n",
       "      <td>NaN</td>\n",
       "      <td>NaN</td>\n",
       "      <td>NaN</td>\n",
       "      <td>NaN</td>\n",
       "      <td>42.000000</td>\n",
       "      <td>346.000000</td>\n",
       "      <td>1.000000</td>\n",
       "      <td>300.000000</td>\n",
       "      <td>18.000000</td>\n",
       "      <td>8.000000</td>\n",
       "      <td>15.000000</td>\n",
       "      <td>NaN</td>\n",
       "      <td>6429.000000</td>\n",
       "      <td>NaN</td>\n",
       "      <td>NaN</td>\n",
       "    </tr>\n",
       "    <tr>\n",
       "      <th>50%</th>\n",
       "      <td>NaN</td>\n",
       "      <td>NaN</td>\n",
       "      <td>24241.000000</td>\n",
       "      <td>NaN</td>\n",
       "      <td>NaN</td>\n",
       "      <td>NaN</td>\n",
       "      <td>NaN</td>\n",
       "      <td>NaN</td>\n",
       "      <td>NaN</td>\n",
       "      <td>NaN</td>\n",
       "      <td>NaN</td>\n",
       "      <td>NaN</td>\n",
       "      <td>1.000000</td>\n",
       "      <td>NaN</td>\n",
       "      <td>NaN</td>\n",
       "      <td>NaN</td>\n",
       "      <td>74.900000</td>\n",
       "      <td>16.320000</td>\n",
       "      <td>1.000000</td>\n",
       "      <td>NaN</td>\n",
       "      <td>2.000000</td>\n",
       "      <td>108.050000</td>\n",
       "      <td>NaN</td>\n",
       "      <td>5.000000</td>\n",
       "      <td>NaN</td>\n",
       "      <td>NaN</td>\n",
       "      <td>NaN</td>\n",
       "      <td>NaN</td>\n",
       "      <td>NaN</td>\n",
       "      <td>52.000000</td>\n",
       "      <td>600.000000</td>\n",
       "      <td>1.000000</td>\n",
       "      <td>700.000000</td>\n",
       "      <td>25.000000</td>\n",
       "      <td>13.000000</td>\n",
       "      <td>20.000000</td>\n",
       "      <td>NaN</td>\n",
       "      <td>13660.000000</td>\n",
       "      <td>NaN</td>\n",
       "      <td>NaN</td>\n",
       "    </tr>\n",
       "    <tr>\n",
       "      <th>75%</th>\n",
       "      <td>NaN</td>\n",
       "      <td>NaN</td>\n",
       "      <td>58745.000000</td>\n",
       "      <td>NaN</td>\n",
       "      <td>NaN</td>\n",
       "      <td>NaN</td>\n",
       "      <td>NaN</td>\n",
       "      <td>NaN</td>\n",
       "      <td>NaN</td>\n",
       "      <td>NaN</td>\n",
       "      <td>NaN</td>\n",
       "      <td>NaN</td>\n",
       "      <td>1.000000</td>\n",
       "      <td>NaN</td>\n",
       "      <td>NaN</td>\n",
       "      <td>NaN</td>\n",
       "      <td>134.900000</td>\n",
       "      <td>21.210000</td>\n",
       "      <td>1.000000</td>\n",
       "      <td>NaN</td>\n",
       "      <td>4.000000</td>\n",
       "      <td>189.480000</td>\n",
       "      <td>NaN</td>\n",
       "      <td>5.000000</td>\n",
       "      <td>NaN</td>\n",
       "      <td>NaN</td>\n",
       "      <td>NaN</td>\n",
       "      <td>NaN</td>\n",
       "      <td>NaN</td>\n",
       "      <td>57.000000</td>\n",
       "      <td>983.000000</td>\n",
       "      <td>3.000000</td>\n",
       "      <td>1800.000000</td>\n",
       "      <td>38.000000</td>\n",
       "      <td>20.000000</td>\n",
       "      <td>30.000000</td>\n",
       "      <td>NaN</td>\n",
       "      <td>28605.000000</td>\n",
       "      <td>NaN</td>\n",
       "      <td>NaN</td>\n",
       "    </tr>\n",
       "    <tr>\n",
       "      <th>max</th>\n",
       "      <td>NaN</td>\n",
       "      <td>NaN</td>\n",
       "      <td>99980.000000</td>\n",
       "      <td>NaN</td>\n",
       "      <td>NaN</td>\n",
       "      <td>NaN</td>\n",
       "      <td>NaN</td>\n",
       "      <td>NaN</td>\n",
       "      <td>NaN</td>\n",
       "      <td>NaN</td>\n",
       "      <td>NaN</td>\n",
       "      <td>NaN</td>\n",
       "      <td>21.000000</td>\n",
       "      <td>NaN</td>\n",
       "      <td>NaN</td>\n",
       "      <td>NaN</td>\n",
       "      <td>6735.000000</td>\n",
       "      <td>409.680000</td>\n",
       "      <td>29.000000</td>\n",
       "      <td>NaN</td>\n",
       "      <td>24.000000</td>\n",
       "      <td>13664.080000</td>\n",
       "      <td>NaN</td>\n",
       "      <td>5.000000</td>\n",
       "      <td>NaN</td>\n",
       "      <td>NaN</td>\n",
       "      <td>NaN</td>\n",
       "      <td>NaN</td>\n",
       "      <td>NaN</td>\n",
       "      <td>76.000000</td>\n",
       "      <td>3992.000000</td>\n",
       "      <td>20.000000</td>\n",
       "      <td>40425.000000</td>\n",
       "      <td>105.000000</td>\n",
       "      <td>105.000000</td>\n",
       "      <td>118.000000</td>\n",
       "      <td>NaN</td>\n",
       "      <td>99730.000000</td>\n",
       "      <td>NaN</td>\n",
       "      <td>NaN</td>\n",
       "    </tr>\n",
       "  </tbody>\n",
       "</table>\n",
       "</div>"
      ],
      "text/plain": [
       "                             customer_id                customer_unique_id  \\\n",
       "count                             115609                            115609   \n",
       "unique                             96516                             93396   \n",
       "top     270c23a11d024a44c896d1894b261a83  9a736b248f67d166d2fbb006bcb877c3   \n",
       "freq                                  63                                75   \n",
       "mean                                 NaN                               NaN   \n",
       "std                                  NaN                               NaN   \n",
       "min                                  NaN                               NaN   \n",
       "25%                                  NaN                               NaN   \n",
       "50%                                  NaN                               NaN   \n",
       "75%                                  NaN                               NaN   \n",
       "max                                  NaN                               NaN   \n",
       "\n",
       "        customer_zip_code_prefix customer_city customer_state  \\\n",
       "count              115609.000000        115609         115609   \n",
       "unique                       NaN          4093             27   \n",
       "top                          NaN     sao paulo             SP   \n",
       "freq                         NaN         18267          48797   \n",
       "mean                35061.537597           NaN            NaN   \n",
       "std                 29841.671732           NaN            NaN   \n",
       "min                  1003.000000           NaN            NaN   \n",
       "25%                 11310.000000           NaN            NaN   \n",
       "50%                 24241.000000           NaN            NaN   \n",
       "75%                 58745.000000           NaN            NaN   \n",
       "max                 99980.000000           NaN            NaN   \n",
       "\n",
       "                                order_id order_status  \\\n",
       "count                             115609       115609   \n",
       "unique                             96516            7   \n",
       "top     895ab968e7bb0d5659d16cd74cd1650c    delivered   \n",
       "freq                                  63       113210   \n",
       "mean                                 NaN          NaN   \n",
       "std                                  NaN          NaN   \n",
       "min                                  NaN          NaN   \n",
       "25%                                  NaN          NaN   \n",
       "50%                                  NaN          NaN   \n",
       "75%                                  NaN          NaN   \n",
       "max                                  NaN          NaN   \n",
       "\n",
       "       order_purchase_timestamp    order_approved_at  \\\n",
       "count                    115609               115595   \n",
       "unique                    95989                88332   \n",
       "top         2017-08-08 20:26:31  2017-08-08 20:43:31   \n",
       "freq                         63                   63   \n",
       "mean                        NaN                  NaN   \n",
       "std                         NaN                  NaN   \n",
       "min                         NaN                  NaN   \n",
       "25%                         NaN                  NaN   \n",
       "50%                         NaN                  NaN   \n",
       "75%                         NaN                  NaN   \n",
       "max                         NaN                  NaN   \n",
       "\n",
       "       order_delivered_carrier_date order_delivered_customer_date  \\\n",
       "count                        114414                        113209   \n",
       "unique                        79241                         93702   \n",
       "top             2017-08-10 11:58:14           2017-08-14 12:46:18   \n",
       "freq                             63                            63   \n",
       "mean                            NaN                           NaN   \n",
       "std                             NaN                           NaN   \n",
       "min                             NaN                           NaN   \n",
       "25%                             NaN                           NaN   \n",
       "50%                             NaN                           NaN   \n",
       "75%                             NaN                           NaN   \n",
       "max                             NaN                           NaN   \n",
       "\n",
       "       order_estimated_delivery_date  order_item_id  \\\n",
       "count                         115609  115609.000000   \n",
       "unique                           449            NaN   \n",
       "top              2017-12-20 00:00:00            NaN   \n",
       "freq                             649            NaN   \n",
       "mean                             NaN       1.194535   \n",
       "std                              NaN       0.685926   \n",
       "min                              NaN       1.000000   \n",
       "25%                              NaN       1.000000   \n",
       "50%                              NaN       1.000000   \n",
       "75%                              NaN       1.000000   \n",
       "max                              NaN      21.000000   \n",
       "\n",
       "                              product_id                         seller_id  \\\n",
       "count                             115609                            115609   \n",
       "unique                             32171                              3028   \n",
       "top     aca2eb7d00ea1a7b8ebd4e68314663af  4a3ca9315b744ce9f8e9374361493884   \n",
       "freq                                 533                              2128   \n",
       "mean                                 NaN                               NaN   \n",
       "std                                  NaN                               NaN   \n",
       "min                                  NaN                               NaN   \n",
       "25%                                  NaN                               NaN   \n",
       "50%                                  NaN                               NaN   \n",
       "75%                                  NaN                               NaN   \n",
       "max                                  NaN                               NaN   \n",
       "\n",
       "        shipping_limit_date          price  freight_value  payment_sequential  \\\n",
       "count                115609  115609.000000  115609.000000       115609.000000   \n",
       "unique                91386            NaN            NaN                 NaN   \n",
       "top     2017-08-14 20:43:31            NaN            NaN                 NaN   \n",
       "freq                     63            NaN            NaN                 NaN   \n",
       "mean                    NaN     120.619850      20.056880            1.093747   \n",
       "std                     NaN     182.653476      15.836184            0.729849   \n",
       "min                     NaN       0.850000       0.000000            1.000000   \n",
       "25%                     NaN      39.900000      13.080000            1.000000   \n",
       "50%                     NaN      74.900000      16.320000            1.000000   \n",
       "75%                     NaN     134.900000      21.210000            1.000000   \n",
       "max                     NaN    6735.000000     409.680000           29.000000   \n",
       "\n",
       "       payment_type  payment_installments  payment_value  \\\n",
       "count        115609         115609.000000  115609.000000   \n",
       "unique            4                   NaN            NaN   \n",
       "top     credit_card                   NaN            NaN   \n",
       "freq          85278                   NaN            NaN   \n",
       "mean            NaN              2.946233     172.387379   \n",
       "std             NaN              2.781087     265.873969   \n",
       "min             NaN              0.000000       0.000000   \n",
       "25%             NaN              1.000000      60.870000   \n",
       "50%             NaN              2.000000     108.050000   \n",
       "75%             NaN              4.000000     189.480000   \n",
       "max             NaN             24.000000   13664.080000   \n",
       "\n",
       "                               review_id   review_score review_comment_title  \\\n",
       "count                             115609  115609.000000                13801   \n",
       "unique                             96319            NaN                 4477   \n",
       "top     eef5dbca8d37dfce6db7d7b16dd0525e            NaN            Recomendo   \n",
       "freq                                  63            NaN                  489   \n",
       "mean                                 NaN       4.034409                  NaN   \n",
       "std                                  NaN       1.385584                  NaN   \n",
       "min                                  NaN       1.000000                  NaN   \n",
       "25%                                  NaN       4.000000                  NaN   \n",
       "50%                                  NaN       5.000000                  NaN   \n",
       "75%                                  NaN       5.000000                  NaN   \n",
       "max                                  NaN       5.000000                  NaN   \n",
       "\n",
       "       review_comment_message review_creation_date review_answer_timestamp  \\\n",
       "count                   48906               115609                  115609   \n",
       "unique                  35176                  632                   96163   \n",
       "top                 Muito bom  2017-12-19 00:00:00     2017-08-17 22:17:55   \n",
       "freq                      253                  531                      63   \n",
       "mean                      NaN                  NaN                     NaN   \n",
       "std                       NaN                  NaN                     NaN   \n",
       "min                       NaN                  NaN                     NaN   \n",
       "25%                       NaN                  NaN                     NaN   \n",
       "50%                       NaN                  NaN                     NaN   \n",
       "75%                       NaN                  NaN                     NaN   \n",
       "max                       NaN                  NaN                     NaN   \n",
       "\n",
       "       product_category_name  product_name_lenght  product_description_lenght  \\\n",
       "count                 115609        115609.000000               115609.000000   \n",
       "unique                    71                  NaN                         NaN   \n",
       "top          cama_mesa_banho                  NaN                         NaN   \n",
       "freq                   11847                  NaN                         NaN   \n",
       "mean                     NaN            48.766541                  785.808198   \n",
       "std                      NaN            10.034187                  652.418619   \n",
       "min                      NaN             5.000000                    4.000000   \n",
       "25%                      NaN            42.000000                  346.000000   \n",
       "50%                      NaN            52.000000                  600.000000   \n",
       "75%                      NaN            57.000000                  983.000000   \n",
       "max                      NaN            76.000000                 3992.000000   \n",
       "\n",
       "        product_photos_qty  product_weight_g  product_length_cm  \\\n",
       "count        115609.000000     115608.000000      115608.000000   \n",
       "unique                 NaN               NaN                NaN   \n",
       "top                    NaN               NaN                NaN   \n",
       "freq                   NaN               NaN                NaN   \n",
       "mean              2.205373       2113.907697          30.307903   \n",
       "std               1.717771       3781.754895          16.211108   \n",
       "min               1.000000          0.000000           7.000000   \n",
       "25%               1.000000        300.000000          18.000000   \n",
       "50%               1.000000        700.000000          25.000000   \n",
       "75%               3.000000       1800.000000          38.000000   \n",
       "max              20.000000      40425.000000         105.000000   \n",
       "\n",
       "        product_height_cm  product_width_cm product_category_name_english  \\\n",
       "count       115608.000000     115608.000000                        115609   \n",
       "unique                NaN               NaN                            71   \n",
       "top                   NaN               NaN                bed_bath_table   \n",
       "freq                  NaN               NaN                         11847   \n",
       "mean            16.638477         23.113167                           NaN   \n",
       "std             13.473570         11.755083                           NaN   \n",
       "min              2.000000          6.000000                           NaN   \n",
       "25%              8.000000         15.000000                           NaN   \n",
       "50%             13.000000         20.000000                           NaN   \n",
       "75%             20.000000         30.000000                           NaN   \n",
       "max            105.000000        118.000000                           NaN   \n",
       "\n",
       "        seller_zip_code_prefix seller_city seller_state  \n",
       "count            115609.000000      115609       115609  \n",
       "unique                     NaN         604           23  \n",
       "top                        NaN   sao paulo           SP  \n",
       "freq                       NaN       28811        82417  \n",
       "mean              24515.713958         NaN          NaN  \n",
       "std               27636.640968         NaN          NaN  \n",
       "min                1001.000000         NaN          NaN  \n",
       "25%                6429.000000         NaN          NaN  \n",
       "50%               13660.000000         NaN          NaN  \n",
       "75%               28605.000000         NaN          NaN  \n",
       "max               99730.000000         NaN          NaN  "
      ]
     },
     "execution_count": 8,
     "metadata": {},
     "output_type": "execute_result"
    }
   ],
   "source": [
    "df.describe(include='all')"
   ]
  },
  {
   "cell_type": "code",
   "execution_count": 9,
   "metadata": {},
   "outputs": [],
   "source": [
    "for feature in ['order_purchase_timestamp', 'order_approved_at', 'order_delivered_carrier_date', \n",
    "                'order_delivered_customer_date', 'order_estimated_delivery_date', 'shipping_limit_date',\n",
    "                'review_creation_date', 'review_answer_timestamp']:\n",
    "    df[feature] = pd.to_datetime(df[feature])"
   ]
  },
  {
   "cell_type": "code",
   "execution_count": 10,
   "metadata": {},
   "outputs": [
    {
     "name": "stdout",
     "output_type": "stream",
     "text": [
      "<class 'pandas.core.frame.DataFrame'>\n",
      "Int64Index: 115609 entries, 0 to 115608\n",
      "Data columns (total 40 columns):\n",
      " #   Column                         Non-Null Count   Dtype         \n",
      "---  ------                         --------------   -----         \n",
      " 0   customer_id                    115609 non-null  object        \n",
      " 1   customer_unique_id             115609 non-null  object        \n",
      " 2   customer_zip_code_prefix       115609 non-null  int64         \n",
      " 3   customer_city                  115609 non-null  object        \n",
      " 4   customer_state                 115609 non-null  object        \n",
      " 5   order_id                       115609 non-null  object        \n",
      " 6   order_status                   115609 non-null  object        \n",
      " 7   order_purchase_timestamp       115609 non-null  datetime64[ns]\n",
      " 8   order_approved_at              115595 non-null  datetime64[ns]\n",
      " 9   order_delivered_carrier_date   114414 non-null  datetime64[ns]\n",
      " 10  order_delivered_customer_date  113209 non-null  datetime64[ns]\n",
      " 11  order_estimated_delivery_date  115609 non-null  datetime64[ns]\n",
      " 12  order_item_id                  115609 non-null  int64         \n",
      " 13  product_id                     115609 non-null  object        \n",
      " 14  seller_id                      115609 non-null  object        \n",
      " 15  shipping_limit_date            115609 non-null  datetime64[ns]\n",
      " 16  price                          115609 non-null  float64       \n",
      " 17  freight_value                  115609 non-null  float64       \n",
      " 18  payment_sequential             115609 non-null  int64         \n",
      " 19  payment_type                   115609 non-null  object        \n",
      " 20  payment_installments           115609 non-null  int64         \n",
      " 21  payment_value                  115609 non-null  float64       \n",
      " 22  review_id                      115609 non-null  object        \n",
      " 23  review_score                   115609 non-null  int64         \n",
      " 24  review_comment_title           13801 non-null   object        \n",
      " 25  review_comment_message         48906 non-null   object        \n",
      " 26  review_creation_date           115609 non-null  datetime64[ns]\n",
      " 27  review_answer_timestamp        115609 non-null  datetime64[ns]\n",
      " 28  product_category_name          115609 non-null  object        \n",
      " 29  product_name_lenght            115609 non-null  float64       \n",
      " 30  product_description_lenght     115609 non-null  float64       \n",
      " 31  product_photos_qty             115609 non-null  float64       \n",
      " 32  product_weight_g               115608 non-null  float64       \n",
      " 33  product_length_cm              115608 non-null  float64       \n",
      " 34  product_height_cm              115608 non-null  float64       \n",
      " 35  product_width_cm               115608 non-null  float64       \n",
      " 36  product_category_name_english  115609 non-null  object        \n",
      " 37  seller_zip_code_prefix         115609 non-null  int64         \n",
      " 38  seller_city                    115609 non-null  object        \n",
      " 39  seller_state                   115609 non-null  object        \n",
      "dtypes: datetime64[ns](8), float64(10), int64(6), object(16)\n",
      "memory usage: 36.2+ MB\n"
     ]
    }
   ],
   "source": [
    "df.info()"
   ]
  },
  {
   "cell_type": "code",
   "execution_count": 11,
   "metadata": {},
   "outputs": [],
   "source": [
    "best_categ = df.groupby(df['product_category_name_english'])['order_id']\\\n",
    "                    .nunique().reset_index().sort_values('order_id', ascending = False).head(10)"
   ]
  },
  {
   "cell_type": "code",
   "execution_count": null,
   "metadata": {},
   "outputs": [],
   "source": []
  },
  {
   "cell_type": "code",
   "execution_count": 12,
   "metadata": {},
   "outputs": [
    {
     "data": {
      "application/vnd.plotly.v1+json": {
       "config": {
        "plotlyServerURL": "https://plot.ly"
       },
       "data": [
        {
         "alignmentgroup": "True",
         "hovertemplate": "order_id=%{x}<br>product_category_name_english=%{y}<extra></extra>",
         "legendgroup": "",
         "marker": {
          "color": "#636efa",
          "pattern": {
           "shape": ""
          }
         },
         "name": "",
         "offsetgroup": "",
         "orientation": "h",
         "showlegend": false,
         "textposition": "auto",
         "type": "bar",
         "x": [
          9313,
          8770,
          7669,
          6649,
          6398,
          5843,
          5576,
          4168,
          3877,
          3853
         ],
         "xaxis": "x",
         "y": [
          "bed_bath_table",
          "health_beauty",
          "sports_leisure",
          "computers_accessories",
          "furniture_decor",
          "housewares",
          "watches_gifts",
          "telephony",
          "auto",
          "toys"
         ],
         "yaxis": "y"
        }
       ],
       "layout": {
        "barmode": "relative",
        "legend": {
         "tracegroupgap": 0
        },
        "margin": {
         "t": 60
        },
        "template": {
         "data": {
          "bar": [
           {
            "error_x": {
             "color": "#2a3f5f"
            },
            "error_y": {
             "color": "#2a3f5f"
            },
            "marker": {
             "line": {
              "color": "#E5ECF6",
              "width": 0.5
             },
             "pattern": {
              "fillmode": "overlay",
              "size": 10,
              "solidity": 0.2
             }
            },
            "type": "bar"
           }
          ],
          "barpolar": [
           {
            "marker": {
             "line": {
              "color": "#E5ECF6",
              "width": 0.5
             },
             "pattern": {
              "fillmode": "overlay",
              "size": 10,
              "solidity": 0.2
             }
            },
            "type": "barpolar"
           }
          ],
          "carpet": [
           {
            "aaxis": {
             "endlinecolor": "#2a3f5f",
             "gridcolor": "white",
             "linecolor": "white",
             "minorgridcolor": "white",
             "startlinecolor": "#2a3f5f"
            },
            "baxis": {
             "endlinecolor": "#2a3f5f",
             "gridcolor": "white",
             "linecolor": "white",
             "minorgridcolor": "white",
             "startlinecolor": "#2a3f5f"
            },
            "type": "carpet"
           }
          ],
          "choropleth": [
           {
            "colorbar": {
             "outlinewidth": 0,
             "ticks": ""
            },
            "type": "choropleth"
           }
          ],
          "contour": [
           {
            "colorbar": {
             "outlinewidth": 0,
             "ticks": ""
            },
            "colorscale": [
             [
              0,
              "#0d0887"
             ],
             [
              0.1111111111111111,
              "#46039f"
             ],
             [
              0.2222222222222222,
              "#7201a8"
             ],
             [
              0.3333333333333333,
              "#9c179e"
             ],
             [
              0.4444444444444444,
              "#bd3786"
             ],
             [
              0.5555555555555556,
              "#d8576b"
             ],
             [
              0.6666666666666666,
              "#ed7953"
             ],
             [
              0.7777777777777778,
              "#fb9f3a"
             ],
             [
              0.8888888888888888,
              "#fdca26"
             ],
             [
              1,
              "#f0f921"
             ]
            ],
            "type": "contour"
           }
          ],
          "contourcarpet": [
           {
            "colorbar": {
             "outlinewidth": 0,
             "ticks": ""
            },
            "type": "contourcarpet"
           }
          ],
          "heatmap": [
           {
            "colorbar": {
             "outlinewidth": 0,
             "ticks": ""
            },
            "colorscale": [
             [
              0,
              "#0d0887"
             ],
             [
              0.1111111111111111,
              "#46039f"
             ],
             [
              0.2222222222222222,
              "#7201a8"
             ],
             [
              0.3333333333333333,
              "#9c179e"
             ],
             [
              0.4444444444444444,
              "#bd3786"
             ],
             [
              0.5555555555555556,
              "#d8576b"
             ],
             [
              0.6666666666666666,
              "#ed7953"
             ],
             [
              0.7777777777777778,
              "#fb9f3a"
             ],
             [
              0.8888888888888888,
              "#fdca26"
             ],
             [
              1,
              "#f0f921"
             ]
            ],
            "type": "heatmap"
           }
          ],
          "heatmapgl": [
           {
            "colorbar": {
             "outlinewidth": 0,
             "ticks": ""
            },
            "colorscale": [
             [
              0,
              "#0d0887"
             ],
             [
              0.1111111111111111,
              "#46039f"
             ],
             [
              0.2222222222222222,
              "#7201a8"
             ],
             [
              0.3333333333333333,
              "#9c179e"
             ],
             [
              0.4444444444444444,
              "#bd3786"
             ],
             [
              0.5555555555555556,
              "#d8576b"
             ],
             [
              0.6666666666666666,
              "#ed7953"
             ],
             [
              0.7777777777777778,
              "#fb9f3a"
             ],
             [
              0.8888888888888888,
              "#fdca26"
             ],
             [
              1,
              "#f0f921"
             ]
            ],
            "type": "heatmapgl"
           }
          ],
          "histogram": [
           {
            "marker": {
             "pattern": {
              "fillmode": "overlay",
              "size": 10,
              "solidity": 0.2
             }
            },
            "type": "histogram"
           }
          ],
          "histogram2d": [
           {
            "colorbar": {
             "outlinewidth": 0,
             "ticks": ""
            },
            "colorscale": [
             [
              0,
              "#0d0887"
             ],
             [
              0.1111111111111111,
              "#46039f"
             ],
             [
              0.2222222222222222,
              "#7201a8"
             ],
             [
              0.3333333333333333,
              "#9c179e"
             ],
             [
              0.4444444444444444,
              "#bd3786"
             ],
             [
              0.5555555555555556,
              "#d8576b"
             ],
             [
              0.6666666666666666,
              "#ed7953"
             ],
             [
              0.7777777777777778,
              "#fb9f3a"
             ],
             [
              0.8888888888888888,
              "#fdca26"
             ],
             [
              1,
              "#f0f921"
             ]
            ],
            "type": "histogram2d"
           }
          ],
          "histogram2dcontour": [
           {
            "colorbar": {
             "outlinewidth": 0,
             "ticks": ""
            },
            "colorscale": [
             [
              0,
              "#0d0887"
             ],
             [
              0.1111111111111111,
              "#46039f"
             ],
             [
              0.2222222222222222,
              "#7201a8"
             ],
             [
              0.3333333333333333,
              "#9c179e"
             ],
             [
              0.4444444444444444,
              "#bd3786"
             ],
             [
              0.5555555555555556,
              "#d8576b"
             ],
             [
              0.6666666666666666,
              "#ed7953"
             ],
             [
              0.7777777777777778,
              "#fb9f3a"
             ],
             [
              0.8888888888888888,
              "#fdca26"
             ],
             [
              1,
              "#f0f921"
             ]
            ],
            "type": "histogram2dcontour"
           }
          ],
          "mesh3d": [
           {
            "colorbar": {
             "outlinewidth": 0,
             "ticks": ""
            },
            "type": "mesh3d"
           }
          ],
          "parcoords": [
           {
            "line": {
             "colorbar": {
              "outlinewidth": 0,
              "ticks": ""
             }
            },
            "type": "parcoords"
           }
          ],
          "pie": [
           {
            "automargin": true,
            "type": "pie"
           }
          ],
          "scatter": [
           {
            "fillpattern": {
             "fillmode": "overlay",
             "size": 10,
             "solidity": 0.2
            },
            "type": "scatter"
           }
          ],
          "scatter3d": [
           {
            "line": {
             "colorbar": {
              "outlinewidth": 0,
              "ticks": ""
             }
            },
            "marker": {
             "colorbar": {
              "outlinewidth": 0,
              "ticks": ""
             }
            },
            "type": "scatter3d"
           }
          ],
          "scattercarpet": [
           {
            "marker": {
             "colorbar": {
              "outlinewidth": 0,
              "ticks": ""
             }
            },
            "type": "scattercarpet"
           }
          ],
          "scattergeo": [
           {
            "marker": {
             "colorbar": {
              "outlinewidth": 0,
              "ticks": ""
             }
            },
            "type": "scattergeo"
           }
          ],
          "scattergl": [
           {
            "marker": {
             "colorbar": {
              "outlinewidth": 0,
              "ticks": ""
             }
            },
            "type": "scattergl"
           }
          ],
          "scattermapbox": [
           {
            "marker": {
             "colorbar": {
              "outlinewidth": 0,
              "ticks": ""
             }
            },
            "type": "scattermapbox"
           }
          ],
          "scatterpolar": [
           {
            "marker": {
             "colorbar": {
              "outlinewidth": 0,
              "ticks": ""
             }
            },
            "type": "scatterpolar"
           }
          ],
          "scatterpolargl": [
           {
            "marker": {
             "colorbar": {
              "outlinewidth": 0,
              "ticks": ""
             }
            },
            "type": "scatterpolargl"
           }
          ],
          "scatterternary": [
           {
            "marker": {
             "colorbar": {
              "outlinewidth": 0,
              "ticks": ""
             }
            },
            "type": "scatterternary"
           }
          ],
          "surface": [
           {
            "colorbar": {
             "outlinewidth": 0,
             "ticks": ""
            },
            "colorscale": [
             [
              0,
              "#0d0887"
             ],
             [
              0.1111111111111111,
              "#46039f"
             ],
             [
              0.2222222222222222,
              "#7201a8"
             ],
             [
              0.3333333333333333,
              "#9c179e"
             ],
             [
              0.4444444444444444,
              "#bd3786"
             ],
             [
              0.5555555555555556,
              "#d8576b"
             ],
             [
              0.6666666666666666,
              "#ed7953"
             ],
             [
              0.7777777777777778,
              "#fb9f3a"
             ],
             [
              0.8888888888888888,
              "#fdca26"
             ],
             [
              1,
              "#f0f921"
             ]
            ],
            "type": "surface"
           }
          ],
          "table": [
           {
            "cells": {
             "fill": {
              "color": "#EBF0F8"
             },
             "line": {
              "color": "white"
             }
            },
            "header": {
             "fill": {
              "color": "#C8D4E3"
             },
             "line": {
              "color": "white"
             }
            },
            "type": "table"
           }
          ]
         },
         "layout": {
          "annotationdefaults": {
           "arrowcolor": "#2a3f5f",
           "arrowhead": 0,
           "arrowwidth": 1
          },
          "autotypenumbers": "strict",
          "coloraxis": {
           "colorbar": {
            "outlinewidth": 0,
            "ticks": ""
           }
          },
          "colorscale": {
           "diverging": [
            [
             0,
             "#8e0152"
            ],
            [
             0.1,
             "#c51b7d"
            ],
            [
             0.2,
             "#de77ae"
            ],
            [
             0.3,
             "#f1b6da"
            ],
            [
             0.4,
             "#fde0ef"
            ],
            [
             0.5,
             "#f7f7f7"
            ],
            [
             0.6,
             "#e6f5d0"
            ],
            [
             0.7,
             "#b8e186"
            ],
            [
             0.8,
             "#7fbc41"
            ],
            [
             0.9,
             "#4d9221"
            ],
            [
             1,
             "#276419"
            ]
           ],
           "sequential": [
            [
             0,
             "#0d0887"
            ],
            [
             0.1111111111111111,
             "#46039f"
            ],
            [
             0.2222222222222222,
             "#7201a8"
            ],
            [
             0.3333333333333333,
             "#9c179e"
            ],
            [
             0.4444444444444444,
             "#bd3786"
            ],
            [
             0.5555555555555556,
             "#d8576b"
            ],
            [
             0.6666666666666666,
             "#ed7953"
            ],
            [
             0.7777777777777778,
             "#fb9f3a"
            ],
            [
             0.8888888888888888,
             "#fdca26"
            ],
            [
             1,
             "#f0f921"
            ]
           ],
           "sequentialminus": [
            [
             0,
             "#0d0887"
            ],
            [
             0.1111111111111111,
             "#46039f"
            ],
            [
             0.2222222222222222,
             "#7201a8"
            ],
            [
             0.3333333333333333,
             "#9c179e"
            ],
            [
             0.4444444444444444,
             "#bd3786"
            ],
            [
             0.5555555555555556,
             "#d8576b"
            ],
            [
             0.6666666666666666,
             "#ed7953"
            ],
            [
             0.7777777777777778,
             "#fb9f3a"
            ],
            [
             0.8888888888888888,
             "#fdca26"
            ],
            [
             1,
             "#f0f921"
            ]
           ]
          },
          "colorway": [
           "#636efa",
           "#EF553B",
           "#00cc96",
           "#ab63fa",
           "#FFA15A",
           "#19d3f3",
           "#FF6692",
           "#B6E880",
           "#FF97FF",
           "#FECB52"
          ],
          "font": {
           "color": "#2a3f5f"
          },
          "geo": {
           "bgcolor": "white",
           "lakecolor": "white",
           "landcolor": "#E5ECF6",
           "showlakes": true,
           "showland": true,
           "subunitcolor": "white"
          },
          "hoverlabel": {
           "align": "left"
          },
          "hovermode": "closest",
          "mapbox": {
           "style": "light"
          },
          "paper_bgcolor": "white",
          "plot_bgcolor": "#E5ECF6",
          "polar": {
           "angularaxis": {
            "gridcolor": "white",
            "linecolor": "white",
            "ticks": ""
           },
           "bgcolor": "#E5ECF6",
           "radialaxis": {
            "gridcolor": "white",
            "linecolor": "white",
            "ticks": ""
           }
          },
          "scene": {
           "xaxis": {
            "backgroundcolor": "#E5ECF6",
            "gridcolor": "white",
            "gridwidth": 2,
            "linecolor": "white",
            "showbackground": true,
            "ticks": "",
            "zerolinecolor": "white"
           },
           "yaxis": {
            "backgroundcolor": "#E5ECF6",
            "gridcolor": "white",
            "gridwidth": 2,
            "linecolor": "white",
            "showbackground": true,
            "ticks": "",
            "zerolinecolor": "white"
           },
           "zaxis": {
            "backgroundcolor": "#E5ECF6",
            "gridcolor": "white",
            "gridwidth": 2,
            "linecolor": "white",
            "showbackground": true,
            "ticks": "",
            "zerolinecolor": "white"
           }
          },
          "shapedefaults": {
           "line": {
            "color": "#2a3f5f"
           }
          },
          "ternary": {
           "aaxis": {
            "gridcolor": "white",
            "linecolor": "white",
            "ticks": ""
           },
           "baxis": {
            "gridcolor": "white",
            "linecolor": "white",
            "ticks": ""
           },
           "bgcolor": "#E5ECF6",
           "caxis": {
            "gridcolor": "white",
            "linecolor": "white",
            "ticks": ""
           }
          },
          "title": {
           "x": 0.05
          },
          "xaxis": {
           "automargin": true,
           "gridcolor": "white",
           "linecolor": "white",
           "ticks": "",
           "title": {
            "standoff": 15
           },
           "zerolinecolor": "white",
           "zerolinewidth": 2
          },
          "yaxis": {
           "automargin": true,
           "gridcolor": "white",
           "linecolor": "white",
           "ticks": "",
           "title": {
            "standoff": 15
           },
           "zerolinecolor": "white",
           "zerolinewidth": 2
          }
         }
        },
        "title": {
         "text": "Meilleures ventes par catégorie"
        },
        "xaxis": {
         "anchor": "y",
         "domain": [
          0,
          1
         ],
         "title": {
          "text": "Nombre d'unités vendues"
         }
        },
        "yaxis": {
         "anchor": "x",
         "domain": [
          0,
          1
         ],
         "title": {
          "text": "Catégories"
         }
        }
       }
      }
     },
     "metadata": {},
     "output_type": "display_data"
    }
   ],
   "source": [
    "fig = px.bar(best_categ, y='product_category_name_english', x='order_id', color_continuous_scale='viridis')\n",
    "fig.update_layout(title= 'Meilleures ventes par catégorie')\n",
    "fig.update_xaxes(title= \"Nombre d'unités vendues\")\n",
    "fig.update_yaxes(title= \"Catégories\")\n",
    "fig.show()"
   ]
  },
  {
   "cell_type": "code",
   "execution_count": 13,
   "metadata": {},
   "outputs": [],
   "source": [
    "df.to_csv(\"all_in_one.csv\")"
   ]
  }
 ],
 "metadata": {
  "kernelspec": {
   "display_name": "Python 3.9.5 ('venvP4': venv)",
   "language": "python",
   "name": "python3"
  },
  "language_info": {
   "codemirror_mode": {
    "name": "ipython",
    "version": 3
   },
   "file_extension": ".py",
   "mimetype": "text/x-python",
   "name": "python",
   "nbconvert_exporter": "python",
   "pygments_lexer": "ipython3",
   "version": "3.9.5 (tags/v3.9.5:0a7dcbd, May  3 2021, 17:27:52) [MSC v.1928 64 bit (AMD64)]"
  },
  "orig_nbformat": 4,
  "vscode": {
   "interpreter": {
    "hash": "f7e1a9b9cbe668e4701be4a95b55c54bbee974e8956f7235a98a8d5aca3d394c"
   }
  }
 },
 "nbformat": 4,
 "nbformat_minor": 2
}
